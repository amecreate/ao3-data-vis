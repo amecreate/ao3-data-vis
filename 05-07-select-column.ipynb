{
 "cells": [
  {
   "cell_type": "markdown",
   "id": "natural-occasions",
   "metadata": {},
   "source": [
    "---\n",
    "layout: post\n",
    "title:  \"Columns, N/A Values, and Simple Data Cleaning\"\n",
    "date:   2021-05-07\n",
    "category: visualization\n",
    "tags: Python Pandas \n",
    "---"
   ]
  },
  {
   "cell_type": "markdown",
   "id": "nonprofit-district",
   "metadata": {},
   "source": [
    "In this section, we focus on navigating the data set, and cleaning missing values. \n",
    "\n",
    "* Table of Contents\n",
    "{:toc}"
   ]
  },
  {
   "cell_type": "markdown",
   "id": "hazardous-merchant",
   "metadata": {},
   "source": [
    "# Loading File\n",
    "\n",
    "For details on how to load large csv files in Python, check out [Loading CSV Files in Python](2021-05-06-load-file.md). "
   ]
  },
  {
   "cell_type": "code",
   "execution_count": 1,
   "id": "meaningful-choir",
   "metadata": {},
   "outputs": [],
   "source": [
    "# Load Python library\n",
    "import pandas as pd\n",
    "\n",
    "# Load file\n",
    "path=\"/home/pi/Downloads/works-20210226.csv\"\n",
    "chunker = pd.read_csv(path, chunksize=10000)\n",
    "works = pd.concat(chunker, ignore_index=True)"
   ]
  },
  {
   "cell_type": "markdown",
   "id": "sized-width",
   "metadata": {},
   "source": [
    "# Shape Of The Dataframe\n",
    "\n",
    "We can use ```shape``` to get the number of rows and columns in the dataset. Specifically, shape[0] displays the number of rows, and shape[1] displays the number of columns."
   ]
  },
  {
   "cell_type": "code",
   "execution_count": 2,
   "id": "streaming-skirt",
   "metadata": {},
   "outputs": [
    {
     "data": {
      "text/plain": [
       "(7269693, 7)"
      ]
     },
     "execution_count": 2,
     "metadata": {},
     "output_type": "execute_result"
    }
   ],
   "source": [
    "# The number of rows and columns in the dataframe\n",
    "works.shape"
   ]
  },
  {
   "cell_type": "code",
   "execution_count": 8,
   "id": "molecular-theorem",
   "metadata": {},
   "outputs": [
    {
     "data": {
      "text/plain": [
       "7269693"
      ]
     },
     "execution_count": 8,
     "metadata": {},
     "output_type": "execute_result"
    }
   ],
   "source": [
    "# Number of rows\n",
    "works.shape[0]"
   ]
  },
  {
   "cell_type": "code",
   "execution_count": 4,
   "id": "bridal-reminder",
   "metadata": {},
   "outputs": [
    {
     "data": {
      "text/plain": [
       "7"
      ]
     },
     "execution_count": 4,
     "metadata": {},
     "output_type": "execute_result"
    }
   ],
   "source": [
    "# Number of cols\n",
    "works.shape[1]"
   ]
  },
  {
   "cell_type": "markdown",
   "id": "spread-receptor",
   "metadata": {},
   "source": [
    "As we can see from above, there are 7269693 rows and 7 columns in the dataframe."
   ]
  },
  {
   "cell_type": "markdown",
   "id": "empirical-county",
   "metadata": {},
   "source": [
    "# Column Names and Selecting Columns\n",
    "\n",
    "To preview the dataset and its columns, we can print out the first few rows. However, sometimes there are too many columns in a data set it is difficult to display on the screen. Instead, we could print the column names specifically."
   ]
  },
  {
   "cell_type": "code",
   "execution_count": 5,
   "id": "indonesian-morrison",
   "metadata": {},
   "outputs": [
    {
     "data": {
      "text/plain": [
       "Index(['creation date', 'language', 'restricted', 'complete', 'word_count',\n",
       "       'tags', 'Unnamed: 6'],\n",
       "      dtype='object')"
      ]
     },
     "execution_count": 5,
     "metadata": {},
     "output_type": "execute_result"
    }
   ],
   "source": [
    "# View col names\n",
    "works.columns"
   ]
  },
  {
   "cell_type": "markdown",
   "id": "prospective-display",
   "metadata": {},
   "source": [
    "Often, we only need certain columns to work with. There are several ways to select columns, let's select language column for example."
   ]
  },
  {
   "cell_type": "code",
   "execution_count": 14,
   "id": "funded-prince",
   "metadata": {},
   "outputs": [
    {
     "data": {
      "text/plain": [
       "0          en\n",
       "1          en\n",
       "2          en\n",
       "3          en\n",
       "4          en\n",
       "           ..\n",
       "7269688    en\n",
       "7269689    en\n",
       "7269690    en\n",
       "7269691    en\n",
       "7269692    en\n",
       "Name: language, Length: 7269693, dtype: object"
      ]
     },
     "execution_count": 14,
     "metadata": {},
     "output_type": "execute_result"
    }
   ],
   "source": [
    "# Select a single column \n",
    "works.language"
   ]
  },
  {
   "cell_type": "code",
   "execution_count": 10,
   "id": "vanilla-hands",
   "metadata": {},
   "outputs": [
    {
     "data": {
      "text/plain": [
       "0          en\n",
       "1          en\n",
       "2          en\n",
       "3          en\n",
       "4          en\n",
       "           ..\n",
       "7269688    en\n",
       "7269689    en\n",
       "7269690    en\n",
       "7269691    en\n",
       "7269692    en\n",
       "Name: language, Length: 7269693, dtype: object"
      ]
     },
     "execution_count": 10,
     "metadata": {},
     "output_type": "execute_result"
    }
   ],
   "source": [
    "works['language']"
   ]
  },
  {
   "cell_type": "code",
   "execution_count": 13,
   "id": "actual-stewart",
   "metadata": {},
   "outputs": [
    {
     "data": {
      "text/plain": [
       "0          en\n",
       "1          en\n",
       "2          en\n",
       "3          en\n",
       "4          en\n",
       "           ..\n",
       "7269688    en\n",
       "7269689    en\n",
       "7269690    en\n",
       "7269691    en\n",
       "7269692    en\n",
       "Name: language, Length: 7269693, dtype: object"
      ]
     },
     "execution_count": 13,
     "metadata": {},
     "output_type": "execute_result"
    }
   ],
   "source": [
    "works.loc[:,'language']"
   ]
  },
  {
   "cell_type": "markdown",
   "id": "comfortable-wiring",
   "metadata": {},
   "source": [
    "As we can see from above, the three methods yield exactly the same results. Which one to use depends on your own preference.\n",
    "\n",
    "Let's select multiple columns at the same time."
   ]
  },
  {
   "cell_type": "code",
   "execution_count": 16,
   "id": "blond-frontier",
   "metadata": {},
   "outputs": [
    {
     "data": {
      "text/html": [
       "<div>\n",
       "<style scoped>\n",
       "    .dataframe tbody tr th:only-of-type {\n",
       "        vertical-align: middle;\n",
       "    }\n",
       "\n",
       "    .dataframe tbody tr th {\n",
       "        vertical-align: top;\n",
       "    }\n",
       "\n",
       "    .dataframe thead th {\n",
       "        text-align: right;\n",
       "    }\n",
       "</style>\n",
       "<table border=\"1\" class=\"dataframe\">\n",
       "  <thead>\n",
       "    <tr style=\"text-align: right;\">\n",
       "      <th></th>\n",
       "      <th>creation date</th>\n",
       "      <th>language</th>\n",
       "    </tr>\n",
       "  </thead>\n",
       "  <tbody>\n",
       "    <tr>\n",
       "      <th>0</th>\n",
       "      <td>2021-02-26</td>\n",
       "      <td>en</td>\n",
       "    </tr>\n",
       "    <tr>\n",
       "      <th>1</th>\n",
       "      <td>2021-02-26</td>\n",
       "      <td>en</td>\n",
       "    </tr>\n",
       "    <tr>\n",
       "      <th>2</th>\n",
       "      <td>2021-02-26</td>\n",
       "      <td>en</td>\n",
       "    </tr>\n",
       "    <tr>\n",
       "      <th>3</th>\n",
       "      <td>2021-02-26</td>\n",
       "      <td>en</td>\n",
       "    </tr>\n",
       "    <tr>\n",
       "      <th>4</th>\n",
       "      <td>2021-02-26</td>\n",
       "      <td>en</td>\n",
       "    </tr>\n",
       "    <tr>\n",
       "      <th>...</th>\n",
       "      <td>...</td>\n",
       "      <td>...</td>\n",
       "    </tr>\n",
       "    <tr>\n",
       "      <th>7269688</th>\n",
       "      <td>2008-09-13</td>\n",
       "      <td>en</td>\n",
       "    </tr>\n",
       "    <tr>\n",
       "      <th>7269689</th>\n",
       "      <td>2008-09-13</td>\n",
       "      <td>en</td>\n",
       "    </tr>\n",
       "    <tr>\n",
       "      <th>7269690</th>\n",
       "      <td>2008-09-13</td>\n",
       "      <td>en</td>\n",
       "    </tr>\n",
       "    <tr>\n",
       "      <th>7269691</th>\n",
       "      <td>2008-09-13</td>\n",
       "      <td>en</td>\n",
       "    </tr>\n",
       "    <tr>\n",
       "      <th>7269692</th>\n",
       "      <td>2008-09-13</td>\n",
       "      <td>en</td>\n",
       "    </tr>\n",
       "  </tbody>\n",
       "</table>\n",
       "<p>7269693 rows × 2 columns</p>\n",
       "</div>"
      ],
      "text/plain": [
       "        creation date language\n",
       "0          2021-02-26       en\n",
       "1          2021-02-26       en\n",
       "2          2021-02-26       en\n",
       "3          2021-02-26       en\n",
       "4          2021-02-26       en\n",
       "...               ...      ...\n",
       "7269688    2008-09-13       en\n",
       "7269689    2008-09-13       en\n",
       "7269690    2008-09-13       en\n",
       "7269691    2008-09-13       en\n",
       "7269692    2008-09-13       en\n",
       "\n",
       "[7269693 rows x 2 columns]"
      ]
     },
     "execution_count": 16,
     "metadata": {},
     "output_type": "execute_result"
    }
   ],
   "source": [
    "# Select multiple columns\n",
    "works[['creation date','language']]"
   ]
  },
  {
   "cell_type": "code",
   "execution_count": 17,
   "id": "occasional-engine",
   "metadata": {},
   "outputs": [
    {
     "data": {
      "text/html": [
       "<div>\n",
       "<style scoped>\n",
       "    .dataframe tbody tr th:only-of-type {\n",
       "        vertical-align: middle;\n",
       "    }\n",
       "\n",
       "    .dataframe tbody tr th {\n",
       "        vertical-align: top;\n",
       "    }\n",
       "\n",
       "    .dataframe thead th {\n",
       "        text-align: right;\n",
       "    }\n",
       "</style>\n",
       "<table border=\"1\" class=\"dataframe\">\n",
       "  <thead>\n",
       "    <tr style=\"text-align: right;\">\n",
       "      <th></th>\n",
       "      <th>creation date</th>\n",
       "      <th>language</th>\n",
       "    </tr>\n",
       "  </thead>\n",
       "  <tbody>\n",
       "    <tr>\n",
       "      <th>0</th>\n",
       "      <td>2021-02-26</td>\n",
       "      <td>en</td>\n",
       "    </tr>\n",
       "    <tr>\n",
       "      <th>1</th>\n",
       "      <td>2021-02-26</td>\n",
       "      <td>en</td>\n",
       "    </tr>\n",
       "    <tr>\n",
       "      <th>2</th>\n",
       "      <td>2021-02-26</td>\n",
       "      <td>en</td>\n",
       "    </tr>\n",
       "    <tr>\n",
       "      <th>3</th>\n",
       "      <td>2021-02-26</td>\n",
       "      <td>en</td>\n",
       "    </tr>\n",
       "    <tr>\n",
       "      <th>4</th>\n",
       "      <td>2021-02-26</td>\n",
       "      <td>en</td>\n",
       "    </tr>\n",
       "    <tr>\n",
       "      <th>...</th>\n",
       "      <td>...</td>\n",
       "      <td>...</td>\n",
       "    </tr>\n",
       "    <tr>\n",
       "      <th>7269688</th>\n",
       "      <td>2008-09-13</td>\n",
       "      <td>en</td>\n",
       "    </tr>\n",
       "    <tr>\n",
       "      <th>7269689</th>\n",
       "      <td>2008-09-13</td>\n",
       "      <td>en</td>\n",
       "    </tr>\n",
       "    <tr>\n",
       "      <th>7269690</th>\n",
       "      <td>2008-09-13</td>\n",
       "      <td>en</td>\n",
       "    </tr>\n",
       "    <tr>\n",
       "      <th>7269691</th>\n",
       "      <td>2008-09-13</td>\n",
       "      <td>en</td>\n",
       "    </tr>\n",
       "    <tr>\n",
       "      <th>7269692</th>\n",
       "      <td>2008-09-13</td>\n",
       "      <td>en</td>\n",
       "    </tr>\n",
       "  </tbody>\n",
       "</table>\n",
       "<p>7269693 rows × 2 columns</p>\n",
       "</div>"
      ],
      "text/plain": [
       "        creation date language\n",
       "0          2021-02-26       en\n",
       "1          2021-02-26       en\n",
       "2          2021-02-26       en\n",
       "3          2021-02-26       en\n",
       "4          2021-02-26       en\n",
       "...               ...      ...\n",
       "7269688    2008-09-13       en\n",
       "7269689    2008-09-13       en\n",
       "7269690    2008-09-13       en\n",
       "7269691    2008-09-13       en\n",
       "7269692    2008-09-13       en\n",
       "\n",
       "[7269693 rows x 2 columns]"
      ]
     },
     "execution_count": 17,
     "metadata": {},
     "output_type": "execute_result"
    }
   ],
   "source": [
    "works.loc[:,['creation date', 'language']]"
   ]
  },
  {
   "cell_type": "markdown",
   "id": "major-threshold",
   "metadata": {},
   "source": [
    "With the two columns on hand, we can proceed with more in-depth analysis. For example, we could:\n",
    "\n",
    "- Find the total number of languages on AO3\n",
    "- Find top 5 most popular languages on AO3\n",
    "- Visulize language trend\n",
    "- Analyze users' posting habits\n",
    "\n",
    "etc.\n",
    "\n",
    "But before we can do any analysis, we need to clean the data set."
   ]
  },
  {
   "cell_type": "markdown",
   "id": "dedicated-reduction",
   "metadata": {},
   "source": [
    "# N/A values\n",
    "\n",
    "In real world, the data set may contain missing values (showing up as NaN). In order to prepare the data for further analysis, we need to detect null values, single out the rows, and eventually drop the rows containing null values.\n",
    "\n",
    "For more details behind the scene, check out [Handling Missing Data](https://jakevdp.github.io/PythonDataScienceHandbook/03.04-missing-values.html)."
   ]
  },
  {
   "cell_type": "code",
   "execution_count": 22,
   "id": "caring-moses",
   "metadata": {},
   "outputs": [
    {
     "data": {
      "text/plain": [
       "creation date    False\n",
       "language          True\n",
       "restricted       False\n",
       "complete         False\n",
       "word_count        True\n",
       "tags              True\n",
       "Unnamed: 6        True\n",
       "dtype: bool"
      ]
     },
     "execution_count": 22,
     "metadata": {},
     "output_type": "execute_result"
    }
   ],
   "source": [
    "# Detect null values in data\n",
    "works.isna().any()"
   ]
  },
  {
   "cell_type": "code",
   "execution_count": 23,
   "id": "conceptual-narrative",
   "metadata": {},
   "outputs": [
    {
     "data": {
      "text/plain": [
       "creation date    False\n",
       "language          True\n",
       "restricted       False\n",
       "complete         False\n",
       "word_count        True\n",
       "tags              True\n",
       "Unnamed: 6        True\n",
       "dtype: bool"
      ]
     },
     "execution_count": 23,
     "metadata": {},
     "output_type": "execute_result"
    }
   ],
   "source": [
    "# Alternatively using isnull(), same results\n",
    "works.isnull().any()"
   ]
  },
  {
   "cell_type": "markdown",
   "id": "irish-integration",
   "metadata": {},
   "source": [
    "Here it shows that the language, word_count and tages columns all have null values. Let's check out what they look like before taking any actions regarding the null values."
   ]
  },
  {
   "cell_type": "code",
   "execution_count": 28,
   "id": "bizarre-velvet",
   "metadata": {},
   "outputs": [
    {
     "data": {
      "text/plain": [
       "73119      NaN\n",
       "95222      NaN\n",
       "184633     NaN\n",
       "211955     NaN\n",
       "266702     NaN\n",
       "          ... \n",
       "6197226    NaN\n",
       "6210472    NaN\n",
       "6216530    NaN\n",
       "6266535    NaN\n",
       "6272792    NaN\n",
       "Name: language, Length: 90, dtype: object"
      ]
     },
     "execution_count": 28,
     "metadata": {},
     "output_type": "execute_result"
    }
   ],
   "source": [
    "# Select language column, display only rows containing null values\n",
    "works['language'][works['language'].isnull()]"
   ]
  },
  {
   "cell_type": "code",
   "execution_count": 33,
   "id": "fundamental-singing",
   "metadata": {},
   "outputs": [
    {
     "data": {
      "text/plain": [
       "1404      NaN\n",
       "3846      NaN\n",
       "3976      NaN\n",
       "5458      NaN\n",
       "6170      NaN\n",
       "           ..\n",
       "6531822   NaN\n",
       "6559452   NaN\n",
       "6755516   NaN\n",
       "6847505   NaN\n",
       "6897542   NaN\n",
       "Name: word_count, Length: 2268, dtype: float64"
      ]
     },
     "execution_count": 33,
     "metadata": {},
     "output_type": "execute_result"
    }
   ],
   "source": [
    "# Same method, word_count column\n",
    "works['word_count'][works['word_count'].isnull()]"
   ]
  },
  {
   "cell_type": "markdown",
   "id": "tough-sodium",
   "metadata": {},
   "source": [
    "If we decide to drop all rows that has at least one null value, we could:"
   ]
  },
  {
   "cell_type": "code",
   "execution_count": 31,
   "id": "amazing-investing",
   "metadata": {},
   "outputs": [
    {
     "data": {
      "text/html": [
       "<div>\n",
       "<style scoped>\n",
       "    .dataframe tbody tr th:only-of-type {\n",
       "        vertical-align: middle;\n",
       "    }\n",
       "\n",
       "    .dataframe tbody tr th {\n",
       "        vertical-align: top;\n",
       "    }\n",
       "\n",
       "    .dataframe thead th {\n",
       "        text-align: right;\n",
       "    }\n",
       "</style>\n",
       "<table border=\"1\" class=\"dataframe\">\n",
       "  <thead>\n",
       "    <tr style=\"text-align: right;\">\n",
       "      <th></th>\n",
       "      <th>creation date</th>\n",
       "      <th>language</th>\n",
       "      <th>restricted</th>\n",
       "      <th>complete</th>\n",
       "      <th>word_count</th>\n",
       "      <th>tags</th>\n",
       "      <th>Unnamed: 6</th>\n",
       "    </tr>\n",
       "  </thead>\n",
       "  <tbody>\n",
       "    <tr>\n",
       "      <th>0</th>\n",
       "      <td>2021-02-26</td>\n",
       "      <td>en</td>\n",
       "      <td>False</td>\n",
       "      <td>True</td>\n",
       "      <td>388.0</td>\n",
       "      <td>10+414093+1001939+4577144+1499536+110+4682892+...</td>\n",
       "      <td>NaN</td>\n",
       "    </tr>\n",
       "    <tr>\n",
       "      <th>1</th>\n",
       "      <td>2021-02-26</td>\n",
       "      <td>en</td>\n",
       "      <td>False</td>\n",
       "      <td>True</td>\n",
       "      <td>1638.0</td>\n",
       "      <td>10+20350917+34816907+23666027+23269305+2326930...</td>\n",
       "      <td>NaN</td>\n",
       "    </tr>\n",
       "    <tr>\n",
       "      <th>2</th>\n",
       "      <td>2021-02-26</td>\n",
       "      <td>en</td>\n",
       "      <td>False</td>\n",
       "      <td>True</td>\n",
       "      <td>1502.0</td>\n",
       "      <td>10+10613413+9780526+3763877+3741104+7657229+30...</td>\n",
       "      <td>NaN</td>\n",
       "    </tr>\n",
       "    <tr>\n",
       "      <th>3</th>\n",
       "      <td>2021-02-26</td>\n",
       "      <td>en</td>\n",
       "      <td>False</td>\n",
       "      <td>True</td>\n",
       "      <td>100.0</td>\n",
       "      <td>10+15322+54862755+20595867+32994286+663+471751...</td>\n",
       "      <td>NaN</td>\n",
       "    </tr>\n",
       "    <tr>\n",
       "      <th>4</th>\n",
       "      <td>2021-02-26</td>\n",
       "      <td>en</td>\n",
       "      <td>False</td>\n",
       "      <td>True</td>\n",
       "      <td>994.0</td>\n",
       "      <td>11+721553+54604+1439500+3938423+53483274+54862...</td>\n",
       "      <td>NaN</td>\n",
       "    </tr>\n",
       "    <tr>\n",
       "      <th>...</th>\n",
       "      <td>...</td>\n",
       "      <td>...</td>\n",
       "      <td>...</td>\n",
       "      <td>...</td>\n",
       "      <td>...</td>\n",
       "      <td>...</td>\n",
       "      <td>...</td>\n",
       "    </tr>\n",
       "    <tr>\n",
       "      <th>7269688</th>\n",
       "      <td>2008-09-13</td>\n",
       "      <td>en</td>\n",
       "      <td>True</td>\n",
       "      <td>True</td>\n",
       "      <td>705.0</td>\n",
       "      <td>78+77+84+101+104+105+106+23+13+16+70+933</td>\n",
       "      <td>NaN</td>\n",
       "    </tr>\n",
       "    <tr>\n",
       "      <th>7269689</th>\n",
       "      <td>2008-09-13</td>\n",
       "      <td>en</td>\n",
       "      <td>False</td>\n",
       "      <td>True</td>\n",
       "      <td>1392.0</td>\n",
       "      <td>78+77+84+107+23+10+16+70+933+616</td>\n",
       "      <td>NaN</td>\n",
       "    </tr>\n",
       "    <tr>\n",
       "      <th>7269690</th>\n",
       "      <td>2008-09-13</td>\n",
       "      <td>en</td>\n",
       "      <td>False</td>\n",
       "      <td>True</td>\n",
       "      <td>1755.0</td>\n",
       "      <td>77+78+69+108+109+62+110+23+9+111+16+70+10128+4858</td>\n",
       "      <td>NaN</td>\n",
       "    </tr>\n",
       "    <tr>\n",
       "      <th>7269691</th>\n",
       "      <td>2008-09-13</td>\n",
       "      <td>en</td>\n",
       "      <td>False</td>\n",
       "      <td>True</td>\n",
       "      <td>1338.0</td>\n",
       "      <td>112+113+13+114+16+115+101+117+118+119+120+116+...</td>\n",
       "      <td>NaN</td>\n",
       "    </tr>\n",
       "    <tr>\n",
       "      <th>7269692</th>\n",
       "      <td>2008-09-13</td>\n",
       "      <td>en</td>\n",
       "      <td>False</td>\n",
       "      <td>True</td>\n",
       "      <td>1836.0</td>\n",
       "      <td>123+124+125+127+128+13+129+14+130+131+132+133+...</td>\n",
       "      <td>NaN</td>\n",
       "    </tr>\n",
       "  </tbody>\n",
       "</table>\n",
       "<p>7269603 rows × 7 columns</p>\n",
       "</div>"
      ],
      "text/plain": [
       "        creation date language  restricted  complete  word_count  \\\n",
       "0          2021-02-26       en       False      True       388.0   \n",
       "1          2021-02-26       en       False      True      1638.0   \n",
       "2          2021-02-26       en       False      True      1502.0   \n",
       "3          2021-02-26       en       False      True       100.0   \n",
       "4          2021-02-26       en       False      True       994.0   \n",
       "...               ...      ...         ...       ...         ...   \n",
       "7269688    2008-09-13       en        True      True       705.0   \n",
       "7269689    2008-09-13       en       False      True      1392.0   \n",
       "7269690    2008-09-13       en       False      True      1755.0   \n",
       "7269691    2008-09-13       en       False      True      1338.0   \n",
       "7269692    2008-09-13       en       False      True      1836.0   \n",
       "\n",
       "                                                      tags  Unnamed: 6  \n",
       "0        10+414093+1001939+4577144+1499536+110+4682892+...         NaN  \n",
       "1        10+20350917+34816907+23666027+23269305+2326930...         NaN  \n",
       "2        10+10613413+9780526+3763877+3741104+7657229+30...         NaN  \n",
       "3        10+15322+54862755+20595867+32994286+663+471751...         NaN  \n",
       "4        11+721553+54604+1439500+3938423+53483274+54862...         NaN  \n",
       "...                                                    ...         ...  \n",
       "7269688           78+77+84+101+104+105+106+23+13+16+70+933         NaN  \n",
       "7269689                   78+77+84+107+23+10+16+70+933+616         NaN  \n",
       "7269690  77+78+69+108+109+62+110+23+9+111+16+70+10128+4858         NaN  \n",
       "7269691  112+113+13+114+16+115+101+117+118+119+120+116+...         NaN  \n",
       "7269692  123+124+125+127+128+13+129+14+130+131+132+133+...         NaN  \n",
       "\n",
       "[7269603 rows x 7 columns]"
      ]
     },
     "execution_count": 31,
     "metadata": {},
     "output_type": "execute_result"
    }
   ],
   "source": [
    "# Drop null values in language column\n",
    "works.dropna(subset = ['language'])"
   ]
  },
  {
   "cell_type": "markdown",
   "id": "advised-option",
   "metadata": {},
   "source": [
    "Compared to the 7269693 rows in original data set, we dropped 90 rows that contain missing values in the language column, which is exactly what we intended to achieve."
   ]
  }
 ],
 "metadata": {
  "kernelspec": {
   "display_name": "Python 3",
   "language": "python",
   "name": "python3"
  },
  "language_info": {
   "codemirror_mode": {
    "name": "ipython",
    "version": 3
   },
   "file_extension": ".py",
   "mimetype": "text/x-python",
   "name": "python",
   "nbconvert_exporter": "python",
   "pygments_lexer": "ipython3",
   "version": "3.7.3"
  }
 },
 "nbformat": 4,
 "nbformat_minor": 5
}
