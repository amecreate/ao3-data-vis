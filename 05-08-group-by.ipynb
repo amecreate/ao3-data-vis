{
 "cells": [
  {
   "cell_type": "markdown",
   "id": "relative-cyprus",
   "metadata": {},
   "source": [
    "---\n",
    "layout: post\n",
    "title:  \"Unique Values, Groupby, and 5 Most Popular Languages on AO3\"\n",
    "date:   2021-05-07\n",
    "category: data_cleaning visualization\n",
    "tags: Python Pandas Seaborn\n",
    "---"
   ]
  },
  {
   "cell_type": "markdown",
   "id": "congressional-separation",
   "metadata": {},
   "source": [
    "Continue with data cleaning, and a little bit of data analysis. Find the 5 most popular languages on AO3.\n",
    "\n",
    "* Table of Contents\n",
    "{:toc}"
   ]
  },
  {
   "cell_type": "markdown",
   "id": "fresh-silence",
   "metadata": {},
   "source": [
    "# Loading File\n",
    "\n",
    "For details on how to load large csv files in Python, check out [Loading CSV Files in Python](2021-05-06-load-file.md). "
   ]
  },
  {
   "cell_type": "code",
   "execution_count": 1,
   "id": "detected-messaging",
   "metadata": {},
   "outputs": [],
   "source": [
    "# Load Python library\n",
    "import pandas as pd\n",
    "\n",
    "# Load file\n",
    "path=\"/home/pi/Downloads/works-20210226.csv\"\n",
    "chunker = pd.read_csv(path, chunksize=10000)\n",
    "works = pd.concat(chunker, ignore_index=True)"
   ]
  },
  {
   "cell_type": "markdown",
   "id": "capital-terrorist",
   "metadata": {},
   "source": [
    "# Selecting Columns\n",
    "\n",
    "We need the language column to find out top 5 most popular languages on AO3. Let's create a new Series called \"language\"."
   ]
  },
  {
   "cell_type": "code",
   "execution_count": 4,
   "id": "intensive-creation",
   "metadata": {},
   "outputs": [],
   "source": [
    "# Select language col\n",
    "language = works.language\n",
    "\n",
    "# Drop NA values\n",
    "language = language.dropna()"
   ]
  },
  {
   "cell_type": "code",
   "execution_count": 5,
   "id": "empirical-tuition",
   "metadata": {},
   "outputs": [
    {
     "data": {
      "text/plain": [
       "0          en\n",
       "1          en\n",
       "2          en\n",
       "3          en\n",
       "4          en\n",
       "           ..\n",
       "7269688    en\n",
       "7269689    en\n",
       "7269690    en\n",
       "7269691    en\n",
       "7269692    en\n",
       "Name: language, Length: 7269603, dtype: object"
      ]
     },
     "execution_count": 5,
     "metadata": {},
     "output_type": "execute_result"
    }
   ],
   "source": [
    "# Data set preview\n",
    "language"
   ]
  },
  {
   "cell_type": "markdown",
   "id": "reliable-windsor",
   "metadata": {},
   "source": [
    "# Unique Values and Language Options\n",
    "\n",
    "Using ```unique()``` to simply find out the list of languages available in the data set. We should keep in mind that there are more language options available on AO3. What we have here are languages with at least one work created in that language. Some languages do not currently have a work thus are not included in this data set."
   ]
  },
  {
   "cell_type": "code",
   "execution_count": 7,
   "id": "intense-steps",
   "metadata": {},
   "outputs": [
    {
     "data": {
      "text/plain": [
       "array(['en', 'zh', 'de', 'fr', 'es', 'ptBR', 'id', 'ru', 'yue', 'bos',\n",
       "       'pl', 'ptPT', 'fil', 'vi', 'it', 'ms', 'ja', 'nl', 'hu', 'hak',\n",
       "       'be', 'ro', 'cs', 'et', 'ko', 'th', 'wuu', 'fi', 'sv', 'el', 'afr',\n",
       "       'sq', 'qtp', 'fa', 'hr', 'bg', 'ca', 'uk', 'sco', 'lv', 'ga', 'tr',\n",
       "       'ar', 'hy', 'fur', 'lt', 'eu', 'so', 'mk', 'si', 'he', 'da', 'sk',\n",
       "       'bn', 'arc', 'ia', 'slv', 'chn', 'br', 'no', 'hi', 'eo', 'mnc',\n",
       "       'cy', 'hau', 'gl', 'ta', 'qkz', 'bod', 'mr', 'tlh', 'la', 'zu',\n",
       "       'tqx', 'qya', 'gem', 'sjn', 'fcs', 'kat', 'sw', 'sr', 'is', 'pa',\n",
       "       'gd', 'jv'], dtype=object)"
      ]
     },
     "execution_count": 7,
     "metadata": {},
     "output_type": "execute_result"
    }
   ],
   "source": [
    "# Find all language options\n",
    "language.unique()"
   ]
  },
  {
   "cell_type": "code",
   "execution_count": 8,
   "id": "pleased-category",
   "metadata": {},
   "outputs": [
    {
     "data": {
      "text/plain": [
       "85"
      ]
     },
     "execution_count": 8,
     "metadata": {},
     "output_type": "execute_result"
    }
   ],
   "source": [
    "# Find the total number of languages\n",
    "len(language.unique())"
   ]
  },
  {
   "cell_type": "markdown",
   "id": "realistic-recognition",
   "metadata": {},
   "source": [
    "To summarize, we have 85 languages present in the data set. In comparison, you can browse the entire [language options](https://archiveofourown.org/languages) on AO3 website."
   ]
  },
  {
   "cell_type": "markdown",
   "id": "regional-consultancy",
   "metadata": {},
   "source": [
    "# Value_counts for Series\n",
    "\n",
    "```Value_counts()``` is limited to a Series and returns the frequencies of values. We can use it fo find the number of works in each language. For more complex DataFrame structures, ```Groupby()``` is used. More on that later."
   ]
  },
  {
   "cell_type": "code",
   "execution_count": 12,
   "id": "surgical-terrace",
   "metadata": {},
   "outputs": [
    {
     "data": {
      "text/plain": [
       "en     6587693\n",
       "zh      335179\n",
       "ru      136724\n",
       "es       70645\n",
       "fr       32145\n",
       "        ...   \n",
       "hau          1\n",
       "jv           1\n",
       "zu           1\n",
       "mnc          1\n",
       "fur          1\n",
       "Name: language, Length: 85, dtype: int64"
      ]
     },
     "execution_count": 12,
     "metadata": {},
     "output_type": "execute_result"
    }
   ],
   "source": [
    "# Find number of works in each language\n",
    "language.value_counts()"
   ]
  },
  {
   "cell_type": "code",
   "execution_count": 14,
   "id": "saving-qualification",
   "metadata": {},
   "outputs": [
    {
     "data": {
      "text/html": [
       "<div>\n",
       "<style scoped>\n",
       "    .dataframe tbody tr th:only-of-type {\n",
       "        vertical-align: middle;\n",
       "    }\n",
       "\n",
       "    .dataframe tbody tr th {\n",
       "        vertical-align: top;\n",
       "    }\n",
       "\n",
       "    .dataframe thead th {\n",
       "        text-align: right;\n",
       "    }\n",
       "</style>\n",
       "<table border=\"1\" class=\"dataframe\">\n",
       "  <thead>\n",
       "    <tr style=\"text-align: right;\">\n",
       "      <th></th>\n",
       "      <th>language</th>\n",
       "      <th>work_count</th>\n",
       "    </tr>\n",
       "  </thead>\n",
       "  <tbody>\n",
       "    <tr>\n",
       "      <th>0</th>\n",
       "      <td>en</td>\n",
       "      <td>6587693</td>\n",
       "    </tr>\n",
       "    <tr>\n",
       "      <th>1</th>\n",
       "      <td>zh</td>\n",
       "      <td>335179</td>\n",
       "    </tr>\n",
       "    <tr>\n",
       "      <th>2</th>\n",
       "      <td>ru</td>\n",
       "      <td>136724</td>\n",
       "    </tr>\n",
       "    <tr>\n",
       "      <th>3</th>\n",
       "      <td>es</td>\n",
       "      <td>70645</td>\n",
       "    </tr>\n",
       "    <tr>\n",
       "      <th>4</th>\n",
       "      <td>fr</td>\n",
       "      <td>32145</td>\n",
       "    </tr>\n",
       "    <tr>\n",
       "      <th>...</th>\n",
       "      <td>...</td>\n",
       "      <td>...</td>\n",
       "    </tr>\n",
       "    <tr>\n",
       "      <th>80</th>\n",
       "      <td>hau</td>\n",
       "      <td>1</td>\n",
       "    </tr>\n",
       "    <tr>\n",
       "      <th>81</th>\n",
       "      <td>jv</td>\n",
       "      <td>1</td>\n",
       "    </tr>\n",
       "    <tr>\n",
       "      <th>82</th>\n",
       "      <td>zu</td>\n",
       "      <td>1</td>\n",
       "    </tr>\n",
       "    <tr>\n",
       "      <th>83</th>\n",
       "      <td>mnc</td>\n",
       "      <td>1</td>\n",
       "    </tr>\n",
       "    <tr>\n",
       "      <th>84</th>\n",
       "      <td>fur</td>\n",
       "      <td>1</td>\n",
       "    </tr>\n",
       "  </tbody>\n",
       "</table>\n",
       "<p>85 rows × 2 columns</p>\n",
       "</div>"
      ],
      "text/plain": [
       "   language  work_count\n",
       "0        en     6587693\n",
       "1        zh      335179\n",
       "2        ru      136724\n",
       "3        es       70645\n",
       "4        fr       32145\n",
       "..      ...         ...\n",
       "80      hau           1\n",
       "81       jv           1\n",
       "82       zu           1\n",
       "83      mnc           1\n",
       "84      fur           1\n",
       "\n",
       "[85 rows x 2 columns]"
      ]
     },
     "execution_count": 14,
     "metadata": {},
     "output_type": "execute_result"
    }
   ],
   "source": [
    "# Combine the results into a new DataFrame\n",
    "# Disable key as index with reset_index() \n",
    "# Rename columns\n",
    "\n",
    "top_list = language.value_counts().reset_index()\n",
    "top_list.columns = ['language', 'work_count']\n",
    "top_list"
   ]
  },
  {
   "cell_type": "markdown",
   "id": "essential-poster",
   "metadata": {},
   "source": [
    "# Groupby for DataFrame\n",
    "\n",
    "```Groupby``` is used to split the data set into groups, compute a summary statistic for each group, and combine the results into a new data structure. \n",
    "\n",
    "Here, we are going to split the data set into different languages, compute how many works (instances) under each language, and sort the data set so we can find top 5 most popular languages."
   ]
  },
  {
   "cell_type": "code",
   "execution_count": 21,
   "id": "sacred-leadership",
   "metadata": {},
   "outputs": [
    {
     "data": {
      "text/plain": [
       "language\n",
       "afr        38\n",
       "ar         49\n",
       "arc         6\n",
       "be         52\n",
       "bg         67\n",
       "        ...  \n",
       "vi       2178\n",
       "wuu        46\n",
       "yue       369\n",
       "zh     335179\n",
       "zu          1\n",
       "Length: 85, dtype: int64"
      ]
     },
     "execution_count": 21,
     "metadata": {},
     "output_type": "execute_result"
    }
   ],
   "source": [
    "# group the language column by counting each language\n",
    "works.groupby(['language']).size()"
   ]
  },
  {
   "cell_type": "code",
   "execution_count": 25,
   "id": "magnetic-hudson",
   "metadata": {},
   "outputs": [
    {
     "data": {
      "text/html": [
       "<div>\n",
       "<style scoped>\n",
       "    .dataframe tbody tr th:only-of-type {\n",
       "        vertical-align: middle;\n",
       "    }\n",
       "\n",
       "    .dataframe tbody tr th {\n",
       "        vertical-align: top;\n",
       "    }\n",
       "\n",
       "    .dataframe thead th {\n",
       "        text-align: right;\n",
       "    }\n",
       "</style>\n",
       "<table border=\"1\" class=\"dataframe\">\n",
       "  <thead>\n",
       "    <tr style=\"text-align: right;\">\n",
       "      <th></th>\n",
       "      <th>language</th>\n",
       "      <th>work_count</th>\n",
       "    </tr>\n",
       "  </thead>\n",
       "  <tbody>\n",
       "    <tr>\n",
       "      <th>0</th>\n",
       "      <td>en</td>\n",
       "      <td>6587693</td>\n",
       "    </tr>\n",
       "    <tr>\n",
       "      <th>1</th>\n",
       "      <td>zh</td>\n",
       "      <td>335179</td>\n",
       "    </tr>\n",
       "    <tr>\n",
       "      <th>2</th>\n",
       "      <td>ru</td>\n",
       "      <td>136724</td>\n",
       "    </tr>\n",
       "    <tr>\n",
       "      <th>3</th>\n",
       "      <td>es</td>\n",
       "      <td>70645</td>\n",
       "    </tr>\n",
       "    <tr>\n",
       "      <th>4</th>\n",
       "      <td>fr</td>\n",
       "      <td>32145</td>\n",
       "    </tr>\n",
       "    <tr>\n",
       "      <th>...</th>\n",
       "      <td>...</td>\n",
       "      <td>...</td>\n",
       "    </tr>\n",
       "    <tr>\n",
       "      <th>80</th>\n",
       "      <td>fcs</td>\n",
       "      <td>1</td>\n",
       "    </tr>\n",
       "    <tr>\n",
       "      <th>81</th>\n",
       "      <td>fur</td>\n",
       "      <td>1</td>\n",
       "    </tr>\n",
       "    <tr>\n",
       "      <th>82</th>\n",
       "      <td>kat</td>\n",
       "      <td>1</td>\n",
       "    </tr>\n",
       "    <tr>\n",
       "      <th>83</th>\n",
       "      <td>pa</td>\n",
       "      <td>1</td>\n",
       "    </tr>\n",
       "    <tr>\n",
       "      <th>84</th>\n",
       "      <td>zu</td>\n",
       "      <td>1</td>\n",
       "    </tr>\n",
       "  </tbody>\n",
       "</table>\n",
       "<p>85 rows × 2 columns</p>\n",
       "</div>"
      ],
      "text/plain": [
       "   language  work_count\n",
       "0        en     6587693\n",
       "1        zh      335179\n",
       "2        ru      136724\n",
       "3        es       70645\n",
       "4        fr       32145\n",
       "..      ...         ...\n",
       "80      fcs           1\n",
       "81      fur           1\n",
       "82      kat           1\n",
       "83       pa           1\n",
       "84       zu           1\n",
       "\n",
       "[85 rows x 2 columns]"
      ]
     },
     "execution_count": 25,
     "metadata": {},
     "output_type": "execute_result"
    }
   ],
   "source": [
    "# Combine the results into a new DataFrame\n",
    "# Disable key as index with reset_index() \n",
    "# Rename columns\n",
    "# Sort in descending order, modify the existing df with inplace=True\n",
    "# Update index using ignore_index=True\n",
    "\n",
    "top_list2 = works.groupby(['language']).size().reset_index()\n",
    "top_list2.columns = ['language', 'work_count']\n",
    "top_list2.sort_values(by=['work_count'], ascending=False, inplace=True, ignore_index=True)\n",
    "top_list2"
   ]
  },
  {
   "cell_type": "markdown",
   "id": "statutory-search",
   "metadata": {},
   "source": [
    "We have achieved the same results as using ```value_counts()```. We'll use more ```groupby()``` function when we add the creaton_date column and analyze language trend. More on that later. Let's find out the top 5 most popular languages on AO3."
   ]
  },
  {
   "cell_type": "markdown",
   "id": "distributed-charter",
   "metadata": {},
   "source": [
    "# Top 5 Most Popular Languages on AO3\n",
    "\n",
    "As shown in previous steps, we have prepared a clean, organized DataFrame called top_list for data analysis and visualization. Let's extract the top 5 rows into a new DataFrame called top5."
   ]
  },
  {
   "cell_type": "code",
   "execution_count": 26,
   "id": "motivated-snowboard",
   "metadata": {},
   "outputs": [
    {
     "data": {
      "text/html": [
       "<div>\n",
       "<style scoped>\n",
       "    .dataframe tbody tr th:only-of-type {\n",
       "        vertical-align: middle;\n",
       "    }\n",
       "\n",
       "    .dataframe tbody tr th {\n",
       "        vertical-align: top;\n",
       "    }\n",
       "\n",
       "    .dataframe thead th {\n",
       "        text-align: right;\n",
       "    }\n",
       "</style>\n",
       "<table border=\"1\" class=\"dataframe\">\n",
       "  <thead>\n",
       "    <tr style=\"text-align: right;\">\n",
       "      <th></th>\n",
       "      <th>language</th>\n",
       "      <th>work_count</th>\n",
       "    </tr>\n",
       "  </thead>\n",
       "  <tbody>\n",
       "    <tr>\n",
       "      <th>0</th>\n",
       "      <td>en</td>\n",
       "      <td>6587693</td>\n",
       "    </tr>\n",
       "    <tr>\n",
       "      <th>1</th>\n",
       "      <td>zh</td>\n",
       "      <td>335179</td>\n",
       "    </tr>\n",
       "    <tr>\n",
       "      <th>2</th>\n",
       "      <td>ru</td>\n",
       "      <td>136724</td>\n",
       "    </tr>\n",
       "    <tr>\n",
       "      <th>3</th>\n",
       "      <td>es</td>\n",
       "      <td>70645</td>\n",
       "    </tr>\n",
       "    <tr>\n",
       "      <th>4</th>\n",
       "      <td>fr</td>\n",
       "      <td>32145</td>\n",
       "    </tr>\n",
       "  </tbody>\n",
       "</table>\n",
       "</div>"
      ],
      "text/plain": [
       "  language  work_count\n",
       "0       en     6587693\n",
       "1       zh      335179\n",
       "2       ru      136724\n",
       "3       es       70645\n",
       "4       fr       32145"
      ]
     },
     "execution_count": 26,
     "metadata": {},
     "output_type": "execute_result"
    }
   ],
   "source": [
    "# Top 5 rows\n",
    "top5 = top_list[:5].copy()\n",
    "top5"
   ]
  },
  {
   "cell_type": "markdown",
   "id": "classified-saturn",
   "metadata": {},
   "source": [
    "In top5, we have the all-time most popular languages on AO3 (at the time of this writing) and the number of works in each language. Let's create a simple visualization to display the data."
   ]
  },
  {
   "cell_type": "markdown",
   "id": "regulation-tragedy",
   "metadata": {},
   "source": [
    "# Simple Graph with Seaborn Library\n",
    "\n",
    "There are several ways to plot graphs in Python, such as [Matplotlib](https://matplotlib.org/), [Pandas Plot](https://pandas.pydata.org/pandas-docs/stable/user_guide/visualization.html), and [Seaborn](https://seaborn.pydata.org/), the latter two are based on matplotlib. Depending on the complexity of the graph, you can choose to use either one of the libraries."
   ]
  },
  {
   "cell_type": "code",
   "execution_count": 27,
   "id": "sufficient-angle",
   "metadata": {},
   "outputs": [],
   "source": [
    "# Import libraries\n",
    "# Top line is Jupyter Notebook specific\n",
    "\n",
    "%matplotlib inline\n",
    "\n",
    "import matplotlib.pyplot as plt\n",
    "import seaborn as sns"
   ]
  },
  {
   "cell_type": "code",
   "execution_count": 34,
   "id": "assigned-gateway",
   "metadata": {},
   "outputs": [
    {
     "data": {
      "image/png": "[encoded data removed]",
      "text/plain": [
       "<Figure size 432x288 with 1 Axes>"
      ]
     },
     "metadata": {},
     "output_type": "display_data"
    }
   ],
   "source": [
    "# Plot using Seaborn library\n",
    "# Prevent scientific notation with ticklabel_format()\n",
    "\n",
    "ax = sns.barplot(x=\"language\", y=\"work_count\", data=top5)\n",
    "ax.ticklabel_format(style='plain', axis='y')"
   ]
  }
 ],
 "metadata": {
  "kernelspec": {
   "display_name": "Python 3",
   "language": "python",
   "name": "python3"
  },
  "language_info": {
   "codemirror_mode": {
    "name": "ipython",
    "version": 3
   },
   "file_extension": ".py",
   "mimetype": "text/x-python",
   "name": "python",
   "nbconvert_exporter": "python",
   "pygments_lexer": "ipython3",
   "version": "3.7.3"
  }
 },
 "nbformat": 4,
 "nbformat_minor": 5
}
