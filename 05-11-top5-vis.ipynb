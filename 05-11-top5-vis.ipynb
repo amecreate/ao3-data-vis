{
 "cells": [
  {
   "cell_type": "markdown",
   "id": "scenic-equation",
   "metadata": {},
   "source": [
    "---\n",
    "layout: post\n",
    "title:  \"Plotting 5 Most Popular Languages on AO3\"\n",
    "date:   2021-05-11\n",
    "category: visualization\n",
    "tags: Python Seaborn barplot\n",
    "---"
   ]
  },
  {
   "cell_type": "markdown",
   "id": "vietnamese-master",
   "metadata": {},
   "source": [
    "* Table of Contents\n",
    "{:toc}"
   ]
  },
  {
   "cell_type": "markdown",
   "id": "massive-tuner",
   "metadata": {},
   "source": [
    "# Data Cleaning\n",
    "\n",
    "Let's quickly go over how we load file, select column, and find the 5 most popular languages on AO3. For detailed explanations of what's going on, check out previous posts on this subject."
   ]
  },
  {
   "cell_type": "code",
   "execution_count": 2,
   "id": "disturbed-syndicate",
   "metadata": {},
   "outputs": [
    {
     "data": {
      "text/html": [
       "<div>\n",
       "<style scoped>\n",
       "    .dataframe tbody tr th:only-of-type {\n",
       "        vertical-align: middle;\n",
       "    }\n",
       "\n",
       "    .dataframe tbody tr th {\n",
       "        vertical-align: top;\n",
       "    }\n",
       "\n",
       "    .dataframe thead th {\n",
       "        text-align: right;\n",
       "    }\n",
       "</style>\n",
       "<table border=\"1\" class=\"dataframe\">\n",
       "  <thead>\n",
       "    <tr style=\"text-align: right;\">\n",
       "      <th></th>\n",
       "      <th>language</th>\n",
       "      <th>work_count</th>\n",
       "    </tr>\n",
       "  </thead>\n",
       "  <tbody>\n",
       "    <tr>\n",
       "      <th>0</th>\n",
       "      <td>en</td>\n",
       "      <td>6587693</td>\n",
       "    </tr>\n",
       "    <tr>\n",
       "      <th>1</th>\n",
       "      <td>zh</td>\n",
       "      <td>335179</td>\n",
       "    </tr>\n",
       "    <tr>\n",
       "      <th>2</th>\n",
       "      <td>ru</td>\n",
       "      <td>136724</td>\n",
       "    </tr>\n",
       "    <tr>\n",
       "      <th>3</th>\n",
       "      <td>es</td>\n",
       "      <td>70645</td>\n",
       "    </tr>\n",
       "    <tr>\n",
       "      <th>4</th>\n",
       "      <td>fr</td>\n",
       "      <td>32145</td>\n",
       "    </tr>\n",
       "  </tbody>\n",
       "</table>\n",
       "</div>"
      ],
      "text/plain": [
       "  language  work_count\n",
       "0       en     6587693\n",
       "1       zh      335179\n",
       "2       ru      136724\n",
       "3       es       70645\n",
       "4       fr       32145"
      ]
     },
     "execution_count": 2,
     "metadata": {},
     "output_type": "execute_result"
    }
   ],
   "source": [
    "# Load Python library\n",
    "import pandas as pd\n",
    "\n",
    "# Load file\n",
    "path=\"/home/pi/Downloads/works-20210226.csv\"\n",
    "chunker = pd.read_csv(path, chunksize=10000)\n",
    "works = pd.concat(chunker, ignore_index=True)\n",
    "\n",
    "# Select language col, drop na values, count frequencies of each language\n",
    "top = works.language.dropna().value_counts().reset_index()\n",
    "top.columns = ['language', 'work_count']\n",
    "\n",
    "# Choose top 5 most popular languages\n",
    "top5 = top[:5].copy()\n",
    "top5"
   ]
  },
  {
   "cell_type": "markdown",
   "id": "broke-amplifier",
   "metadata": {},
   "source": [
    "# Simple Bar Plot\n",
    "\n",
    "We use Seaborn library to plot the data into a simple bar plot."
   ]
  },
  {
   "cell_type": "code",
   "execution_count": 3,
   "id": "square-feeding",
   "metadata": {},
   "outputs": [],
   "source": [
    "# Import libraries\n",
    "# Top line is Jupyter Notebook specific\n",
    "\n",
    "%matplotlib inline\n",
    "\n",
    "import matplotlib.pyplot as plt\n",
    "import seaborn as sns"
   ]
  },
  {
   "cell_type": "code",
   "execution_count": 17,
   "id": "difficult-parts",
   "metadata": {},
   "outputs": [
    {
     "data": {
      "image/png": "[encoded data removed]",
      "text/plain": [
       "<Figure size 432x288 with 1 Axes>"
      ]
     },
     "metadata": {
      "needs_background": "light"
     },
     "output_type": "display_data"
    }
   ],
   "source": [
    "# Plot using Seaborn library\n",
    "ax = sns.barplot(x=\"language\", y=\"work_count\", data=top5)\n",
    "\n",
    "# Add title\n",
    "ax.set_title(\"5 Most Popular Languages on AO3 \\n 2008-2021\")\n",
    "\n",
    "# Prevent scientific notation with ticklabel_format()\n",
    "ax.ticklabel_format(style='plain', axis='y')\n",
    "\n",
    "# Add number annotation\n",
    "for i in range(0,5):\n",
    "    ax.annotate(str(top5['work_count'][i]), xy=(i,top5['work_count'][i]), horizontalalignment=\"center\")"
   ]
  }
 ],
 "metadata": {
  "kernelspec": {
   "display_name": "Python 3",
   "language": "python",
   "name": "python3"
  },
  "language_info": {
   "codemirror_mode": {
    "name": "ipython",
    "version": 3
   },
   "file_extension": ".py",
   "mimetype": "text/x-python",
   "name": "python",
   "nbconvert_exporter": "python",
   "pygments_lexer": "ipython3",
   "version": "3.7.3"
  }
 },
 "nbformat": 4,
 "nbformat_minor": 5
}
