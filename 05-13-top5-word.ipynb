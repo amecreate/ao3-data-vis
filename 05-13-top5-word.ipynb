{
 "cells": [
  {
   "cell_type": "markdown",
   "id": "revised-arbitration",
   "metadata": {},
   "source": [
    "---\n",
    "layout: post\n",
    "title:  \"5 Most Popular Languages on AO3: Word Count\"\n",
    "date:   2021-05-13\n",
    "categories: data_cleaning visualization\n",
    "tags: Python Pandas Seaborn\n",
    "---"
   ]
  },
  {
   "cell_type": "markdown",
   "id": "related-veteran",
   "metadata": {},
   "source": [
    "Having visualized the language trend on AO3 in previous post, let's dive into analysing user behaviour, specifically the word count in each language. \n",
    "\n",
    "* Table of Contents\n",
    "{:toc}"
   ]
  },
  {
   "cell_type": "markdown",
   "id": "rough-starter",
   "metadata": {},
   "source": [
    "# Loading file"
   ]
  },
  {
   "cell_type": "code",
   "execution_count": 1,
   "id": "economic-municipality",
   "metadata": {},
   "outputs": [],
   "source": [
    "# Load Python library\n",
    "import pandas as pd\n",
    "\n",
    "# Load file\n",
    "path=\"/home/pi/Downloads/works-20210226.csv\"\n",
    "chunker = pd.read_csv(path, chunksize=10000)\n",
    "works = pd.concat(chunker, ignore_index=True)"
   ]
  },
  {
   "cell_type": "code",
   "execution_count": null,
   "id": "split-notion",
   "metadata": {},
   "outputs": [],
   "source": []
  }
 ],
 "metadata": {
  "kernelspec": {
   "display_name": "Python 3",
   "language": "python",
   "name": "python3"
  },
  "language_info": {
   "codemirror_mode": {
    "name": "ipython",
    "version": 3
   },
   "file_extension": ".py",
   "mimetype": "text/x-python",
   "name": "python",
   "nbconvert_exporter": "python",
   "pygments_lexer": "ipython3",
   "version": "3.7.3"
  }
 },
 "nbformat": 4,
 "nbformat_minor": 5
}
