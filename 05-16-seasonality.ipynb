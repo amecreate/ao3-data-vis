{
 "cells": [
  {
   "cell_type": "markdown",
   "id": "confirmed-peoples",
   "metadata": {},
   "source": [
    "---\n",
    "layout: post\n",
    "title:  \"User Posting Trend and Seasonality\"\n",
    "date:   2021-05-16\n",
    "category: data_analysis\n",
    "tags: Python Seaborn statsmodels\n",
    "---"
   ]
  },
  {
   "cell_type": "markdown",
   "id": "focused-swimming",
   "metadata": {},
   "source": [
    "In this section, we analyze the trend and seasonality of users' posting habits. Firstly, we use autocorrelation to uncover if there are trend and seasonality present. Then we decompose the trend and seasonality from the data set.\n",
    "\n",
    "* Table of Contents\n",
    "{:toc}"
   ]
  },
  {
   "cell_type": "markdown",
   "id": "ready-turkish",
   "metadata": {},
   "source": [
    "# Loading File"
   ]
  }
 ],
 "metadata": {
  "kernelspec": {
   "display_name": "Python 3",
   "language": "python",
   "name": "python3"
  },
  "language_info": {
   "codemirror_mode": {
    "name": "ipython",
    "version": 3
   },
   "file_extension": ".py",
   "mimetype": "text/x-python",
   "name": "python",
   "nbconvert_exporter": "python",
   "pygments_lexer": "ipython3",
   "version": "3.7.3"
  }
 },
 "nbformat": 4,
 "nbformat_minor": 5
}
