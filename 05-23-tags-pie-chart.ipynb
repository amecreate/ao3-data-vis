{
 "cells": [
  {
   "cell_type": "markdown",
   "id": "b4b0e18a-712c-43f2-a0ce-6bd0f8d33e4c",
   "metadata": {},
   "source": [
    "---\n",
    "layout: post\n",
    "title:  \"Tags on AO3: Visualization with Pie Chart\"\n",
    "date:   2021-05-23\n",
    "category: visualization\n",
    "tags: Python Pandas Matplotlib pie-chart table\n",
    "---"
   ]
  },
  {
   "cell_type": "markdown",
   "id": "d6e77bf5-7dfd-455c-ae53-9a863949da87",
   "metadata": {
    "tags": []
   },
   "source": [
    "In this section, we're going to work on the other file from the AO3 data dump, the tags. \n",
    "\n",
    "* Table of Contents\n",
    "{:toc}"
   ]
  },
  {
   "cell_type": "markdown",
   "id": "c36a2a79-9c86-4fa1-98e3-c2cddc006f8d",
   "metadata": {},
   "source": [
    "# Loading File"
   ]
  },
  {
   "cell_type": "code",
   "execution_count": 1,
   "id": "2d061b90-e6bb-4bc0-a849-5d65193c599d",
   "metadata": {},
   "outputs": [],
   "source": [
    "# Load Python library\n",
    "import pandas as pd\n",
    "\n",
    "# Load file\n",
    "path=\"/home/pi/Downloads/tags-20210226.csv\"\n",
    "chunker = pd.read_csv(path, chunksize=10000)\n",
    "tags = pd.concat(chunker, ignore_index=True)"
   ]
  },
  {
   "cell_type": "code",
   "execution_count": 2,
   "id": "bc9123fe-a31f-46c6-9efa-60ec510ea621",
   "metadata": {},
   "outputs": [
    {
     "data": {
      "text/html": [
       "<div>\n",
       "<style scoped>\n",
       "    .dataframe tbody tr th:only-of-type {\n",
       "        vertical-align: middle;\n",
       "    }\n",
       "\n",
       "    .dataframe tbody tr th {\n",
       "        vertical-align: top;\n",
       "    }\n",
       "\n",
       "    .dataframe thead th {\n",
       "        text-align: right;\n",
       "    }\n",
       "</style>\n",
       "<table border=\"1\" class=\"dataframe\">\n",
       "  <thead>\n",
       "    <tr style=\"text-align: right;\">\n",
       "      <th></th>\n",
       "      <th>id</th>\n",
       "      <th>type</th>\n",
       "      <th>name</th>\n",
       "      <th>canonical</th>\n",
       "      <th>cached_count</th>\n",
       "      <th>merger_id</th>\n",
       "    </tr>\n",
       "  </thead>\n",
       "  <tbody>\n",
       "    <tr>\n",
       "      <th>0</th>\n",
       "      <td>1</td>\n",
       "      <td>Media</td>\n",
       "      <td>TV Shows</td>\n",
       "      <td>True</td>\n",
       "      <td>910</td>\n",
       "      <td>NaN</td>\n",
       "    </tr>\n",
       "    <tr>\n",
       "      <th>1</th>\n",
       "      <td>2</td>\n",
       "      <td>Media</td>\n",
       "      <td>Movies</td>\n",
       "      <td>True</td>\n",
       "      <td>1164</td>\n",
       "      <td>NaN</td>\n",
       "    </tr>\n",
       "    <tr>\n",
       "      <th>2</th>\n",
       "      <td>3</td>\n",
       "      <td>Media</td>\n",
       "      <td>Books &amp; Literature</td>\n",
       "      <td>True</td>\n",
       "      <td>134</td>\n",
       "      <td>NaN</td>\n",
       "    </tr>\n",
       "    <tr>\n",
       "      <th>3</th>\n",
       "      <td>4</td>\n",
       "      <td>Media</td>\n",
       "      <td>Cartoons &amp; Comics &amp; Graphic Novels</td>\n",
       "      <td>True</td>\n",
       "      <td>166</td>\n",
       "      <td>NaN</td>\n",
       "    </tr>\n",
       "    <tr>\n",
       "      <th>4</th>\n",
       "      <td>5</td>\n",
       "      <td>Media</td>\n",
       "      <td>Anime &amp; Manga</td>\n",
       "      <td>True</td>\n",
       "      <td>501</td>\n",
       "      <td>NaN</td>\n",
       "    </tr>\n",
       "    <tr>\n",
       "      <th>...</th>\n",
       "      <td>...</td>\n",
       "      <td>...</td>\n",
       "      <td>...</td>\n",
       "      <td>...</td>\n",
       "      <td>...</td>\n",
       "      <td>...</td>\n",
       "    </tr>\n",
       "    <tr>\n",
       "      <th>14467133</th>\n",
       "      <td>55395603</td>\n",
       "      <td>Freeform</td>\n",
       "      <td>Redacted</td>\n",
       "      <td>False</td>\n",
       "      <td>0</td>\n",
       "      <td>NaN</td>\n",
       "    </tr>\n",
       "    <tr>\n",
       "      <th>14467134</th>\n",
       "      <td>55395606</td>\n",
       "      <td>Freeform</td>\n",
       "      <td>Redacted</td>\n",
       "      <td>False</td>\n",
       "      <td>0</td>\n",
       "      <td>NaN</td>\n",
       "    </tr>\n",
       "    <tr>\n",
       "      <th>14467135</th>\n",
       "      <td>55395609</td>\n",
       "      <td>Freeform</td>\n",
       "      <td>Redacted</td>\n",
       "      <td>False</td>\n",
       "      <td>0</td>\n",
       "      <td>NaN</td>\n",
       "    </tr>\n",
       "    <tr>\n",
       "      <th>14467136</th>\n",
       "      <td>55395612</td>\n",
       "      <td>Freeform</td>\n",
       "      <td>Redacted</td>\n",
       "      <td>False</td>\n",
       "      <td>0</td>\n",
       "      <td>NaN</td>\n",
       "    </tr>\n",
       "    <tr>\n",
       "      <th>14467137</th>\n",
       "      <td>55395615</td>\n",
       "      <td>Freeform</td>\n",
       "      <td>Redacted</td>\n",
       "      <td>False</td>\n",
       "      <td>0</td>\n",
       "      <td>NaN</td>\n",
       "    </tr>\n",
       "  </tbody>\n",
       "</table>\n",
       "<p>14467138 rows × 6 columns</p>\n",
       "</div>"
      ],
      "text/plain": [
       "                id      type                                name  canonical  \\\n",
       "0                1     Media                            TV Shows       True   \n",
       "1                2     Media                              Movies       True   \n",
       "2                3     Media                  Books & Literature       True   \n",
       "3                4     Media  Cartoons & Comics & Graphic Novels       True   \n",
       "4                5     Media                       Anime & Manga       True   \n",
       "...            ...       ...                                 ...        ...   \n",
       "14467133  55395603  Freeform                            Redacted      False   \n",
       "14467134  55395606  Freeform                            Redacted      False   \n",
       "14467135  55395609  Freeform                            Redacted      False   \n",
       "14467136  55395612  Freeform                            Redacted      False   \n",
       "14467137  55395615  Freeform                            Redacted      False   \n",
       "\n",
       "          cached_count  merger_id  \n",
       "0                  910        NaN  \n",
       "1                 1164        NaN  \n",
       "2                  134        NaN  \n",
       "3                  166        NaN  \n",
       "4                  501        NaN  \n",
       "...                ...        ...  \n",
       "14467133             0        NaN  \n",
       "14467134             0        NaN  \n",
       "14467135             0        NaN  \n",
       "14467136             0        NaN  \n",
       "14467137             0        NaN  \n",
       "\n",
       "[14467138 rows x 6 columns]"
      ]
     },
     "execution_count": 2,
     "metadata": {},
     "output_type": "execute_result"
    }
   ],
   "source": [
    "# Preview file\n",
    "tags"
   ]
  },
  {
   "cell_type": "markdown",
   "id": "729ccce9-e9f2-42f0-8720-76add1f54de9",
   "metadata": {},
   "source": [
    "# Exploring Data"
   ]
  },
  {
   "cell_type": "code",
   "execution_count": 3,
   "id": "95217265-61ac-49bf-be82-ebfa5cf1579c",
   "metadata": {},
   "outputs": [
    {
     "data": {
      "text/plain": [
       "array(['Media', 'Rating', 'ArchiveWarning', 'Category', 'Character',\n",
       "       'Fandom', 'Relationship', 'Freeform', 'UnsortedTag'], dtype=object)"
      ]
     },
     "execution_count": 3,
     "metadata": {},
     "output_type": "execute_result"
    }
   ],
   "source": [
    "# Find tag types\n",
    "tags.type.unique()"
   ]
  },
  {
   "cell_type": "code",
   "execution_count": 4,
   "id": "80dec017-8153-4f5b-ae50-5c8c73fefeb2",
   "metadata": {},
   "outputs": [
    {
     "data": {
      "text/plain": [
       "array(['TV Shows', 'Movies', 'Books & Literature',\n",
       "       'Cartoons & Comics & Graphic Novels', 'Anime & Manga',\n",
       "       'Music & Bands', 'Celebrities & Real People', 'Other Media',\n",
       "       'Video Games', 'No Media', 'Uncategorized Fandoms', 'Theater'],\n",
       "      dtype=object)"
      ]
     },
     "execution_count": 4,
     "metadata": {},
     "output_type": "execute_result"
    }
   ],
   "source": [
    "# Find subcategories of Media type tag\n",
    "tags[tags['type'] == 'Media'].name.unique()"
   ]
  },
  {
   "cell_type": "markdown",
   "id": "df4a3d9f-5241-4785-8aa2-134292a65dca",
   "metadata": {},
   "source": [
    "# Cleaning and Manipulating Data\n",
    "\n",
    "Visualize the Media tags according to its cached_count"
   ]
  },
  {
   "cell_type": "code",
   "execution_count": 5,
   "id": "f9eb569c-ddaf-4854-bc6d-79221baeb224",
   "metadata": {},
   "outputs": [
    {
     "data": {
      "text/html": [
       "<div>\n",
       "<style scoped>\n",
       "    .dataframe tbody tr th:only-of-type {\n",
       "        vertical-align: middle;\n",
       "    }\n",
       "\n",
       "    .dataframe tbody tr th {\n",
       "        vertical-align: top;\n",
       "    }\n",
       "\n",
       "    .dataframe thead th {\n",
       "        text-align: right;\n",
       "    }\n",
       "</style>\n",
       "<table border=\"1\" class=\"dataframe\">\n",
       "  <thead>\n",
       "    <tr style=\"text-align: right;\">\n",
       "      <th></th>\n",
       "      <th>type</th>\n",
       "      <th>name</th>\n",
       "      <th>cached_count</th>\n",
       "    </tr>\n",
       "  </thead>\n",
       "  <tbody>\n",
       "    <tr>\n",
       "      <th>0</th>\n",
       "      <td>Media</td>\n",
       "      <td>TV Shows</td>\n",
       "      <td>910</td>\n",
       "    </tr>\n",
       "    <tr>\n",
       "      <th>1</th>\n",
       "      <td>Media</td>\n",
       "      <td>Movies</td>\n",
       "      <td>1164</td>\n",
       "    </tr>\n",
       "    <tr>\n",
       "      <th>2</th>\n",
       "      <td>Media</td>\n",
       "      <td>Books &amp; Literature</td>\n",
       "      <td>134</td>\n",
       "    </tr>\n",
       "    <tr>\n",
       "      <th>3</th>\n",
       "      <td>Media</td>\n",
       "      <td>Cartoons &amp; Comics &amp; Graphic Novels</td>\n",
       "      <td>166</td>\n",
       "    </tr>\n",
       "    <tr>\n",
       "      <th>4</th>\n",
       "      <td>Media</td>\n",
       "      <td>Anime &amp; Manga</td>\n",
       "      <td>501</td>\n",
       "    </tr>\n",
       "    <tr>\n",
       "      <th>...</th>\n",
       "      <td>...</td>\n",
       "      <td>...</td>\n",
       "      <td>...</td>\n",
       "    </tr>\n",
       "    <tr>\n",
       "      <th>14467133</th>\n",
       "      <td>Freeform</td>\n",
       "      <td>Redacted</td>\n",
       "      <td>0</td>\n",
       "    </tr>\n",
       "    <tr>\n",
       "      <th>14467134</th>\n",
       "      <td>Freeform</td>\n",
       "      <td>Redacted</td>\n",
       "      <td>0</td>\n",
       "    </tr>\n",
       "    <tr>\n",
       "      <th>14467135</th>\n",
       "      <td>Freeform</td>\n",
       "      <td>Redacted</td>\n",
       "      <td>0</td>\n",
       "    </tr>\n",
       "    <tr>\n",
       "      <th>14467136</th>\n",
       "      <td>Freeform</td>\n",
       "      <td>Redacted</td>\n",
       "      <td>0</td>\n",
       "    </tr>\n",
       "    <tr>\n",
       "      <th>14467137</th>\n",
       "      <td>Freeform</td>\n",
       "      <td>Redacted</td>\n",
       "      <td>0</td>\n",
       "    </tr>\n",
       "  </tbody>\n",
       "</table>\n",
       "<p>14467138 rows × 3 columns</p>\n",
       "</div>"
      ],
      "text/plain": [
       "              type                                name  cached_count\n",
       "0            Media                            TV Shows           910\n",
       "1            Media                              Movies          1164\n",
       "2            Media                  Books & Literature           134\n",
       "3            Media  Cartoons & Comics & Graphic Novels           166\n",
       "4            Media                       Anime & Manga           501\n",
       "...            ...                                 ...           ...\n",
       "14467133  Freeform                            Redacted             0\n",
       "14467134  Freeform                            Redacted             0\n",
       "14467135  Freeform                            Redacted             0\n",
       "14467136  Freeform                            Redacted             0\n",
       "14467137  Freeform                            Redacted             0\n",
       "\n",
       "[14467138 rows x 3 columns]"
      ]
     },
     "execution_count": 5,
     "metadata": {},
     "output_type": "execute_result"
    }
   ],
   "source": [
    "# Visualize the Media tags according to its cached_count\n",
    "# Prepare data set\n",
    "# Select columns\n",
    "\n",
    "subset = tags[['type', 'name', 'cached_count']].copy()\n",
    "subset"
   ]
  },
  {
   "cell_type": "code",
   "execution_count": 6,
   "id": "835c04f7-e30a-4c91-af86-00feb387a998",
   "metadata": {},
   "outputs": [
    {
     "data": {
      "text/html": [
       "<div>\n",
       "<style scoped>\n",
       "    .dataframe tbody tr th:only-of-type {\n",
       "        vertical-align: middle;\n",
       "    }\n",
       "\n",
       "    .dataframe tbody tr th {\n",
       "        vertical-align: top;\n",
       "    }\n",
       "\n",
       "    .dataframe thead th {\n",
       "        text-align: right;\n",
       "    }\n",
       "</style>\n",
       "<table border=\"1\" class=\"dataframe\">\n",
       "  <thead>\n",
       "    <tr style=\"text-align: right;\">\n",
       "      <th></th>\n",
       "      <th>name</th>\n",
       "      <th>cached_count</th>\n",
       "    </tr>\n",
       "  </thead>\n",
       "  <tbody>\n",
       "    <tr>\n",
       "      <th>0</th>\n",
       "      <td>TV Shows</td>\n",
       "      <td>910</td>\n",
       "    </tr>\n",
       "    <tr>\n",
       "      <th>1</th>\n",
       "      <td>Movies</td>\n",
       "      <td>1164</td>\n",
       "    </tr>\n",
       "    <tr>\n",
       "      <th>2</th>\n",
       "      <td>Books &amp; Literature</td>\n",
       "      <td>134</td>\n",
       "    </tr>\n",
       "    <tr>\n",
       "      <th>3</th>\n",
       "      <td>Cartoons &amp; Comics &amp; Graphic Novels</td>\n",
       "      <td>166</td>\n",
       "    </tr>\n",
       "    <tr>\n",
       "      <th>4</th>\n",
       "      <td>Anime &amp; Manga</td>\n",
       "      <td>501</td>\n",
       "    </tr>\n",
       "    <tr>\n",
       "      <th>5</th>\n",
       "      <td>Music &amp; Bands</td>\n",
       "      <td>19</td>\n",
       "    </tr>\n",
       "    <tr>\n",
       "      <th>6</th>\n",
       "      <td>Celebrities &amp; Real People</td>\n",
       "      <td>33</td>\n",
       "    </tr>\n",
       "    <tr>\n",
       "      <th>7</th>\n",
       "      <td>Other Media</td>\n",
       "      <td>11</td>\n",
       "    </tr>\n",
       "    <tr>\n",
       "      <th>388</th>\n",
       "      <td>Video Games</td>\n",
       "      <td>448</td>\n",
       "    </tr>\n",
       "    <tr>\n",
       "      <th>4510</th>\n",
       "      <td>No Media</td>\n",
       "      <td>0</td>\n",
       "    </tr>\n",
       "    <tr>\n",
       "      <th>8150</th>\n",
       "      <td>Uncategorized Fandoms</td>\n",
       "      <td>1</td>\n",
       "    </tr>\n",
       "    <tr>\n",
       "      <th>23433</th>\n",
       "      <td>Theater</td>\n",
       "      <td>104</td>\n",
       "    </tr>\n",
       "  </tbody>\n",
       "</table>\n",
       "</div>"
      ],
      "text/plain": [
       "                                     name  cached_count\n",
       "0                                TV Shows           910\n",
       "1                                  Movies          1164\n",
       "2                      Books & Literature           134\n",
       "3      Cartoons & Comics & Graphic Novels           166\n",
       "4                           Anime & Manga           501\n",
       "5                           Music & Bands            19\n",
       "6               Celebrities & Real People            33\n",
       "7                             Other Media            11\n",
       "388                           Video Games           448\n",
       "4510                             No Media             0\n",
       "8150                Uncategorized Fandoms             1\n",
       "23433                             Theater           104"
      ]
     },
     "execution_count": 6,
     "metadata": {},
     "output_type": "execute_result"
    }
   ],
   "source": [
    "# Select all names that type is media\n",
    "\n",
    "media = subset[subset['type'] == 'Media'].drop('type',axis=1)\n",
    "media"
   ]
  },
  {
   "cell_type": "markdown",
   "id": "c5fcf158-e2d4-43a8-af96-684fe8e6ee74",
   "metadata": {},
   "source": [
    "# Matplotlib Pie Chart"
   ]
  },
  {
   "cell_type": "code",
   "execution_count": 7,
   "id": "6014c70f-c440-4eab-9c88-7e5a5fd60ae4",
   "metadata": {},
   "outputs": [],
   "source": [
    "# Import libraries\n",
    "# Top line is Jupyter Notebook specific\n",
    "\n",
    "%matplotlib inline\n",
    "\n",
    "import matplotlib.pyplot as plt"
   ]
  },
  {
   "cell_type": "code",
   "execution_count": 8,
   "id": "d03ab457-ca9e-4723-9b78-a5fe7db1bd6c",
   "metadata": {},
   "outputs": [
    {
     "data": {
      "image/png": "[encoded data removed]",
      "text/plain": [
       "<Figure size 432x288 with 1 Axes>"
      ]
     },
     "metadata": {},
     "output_type": "display_data"
    }
   ],
   "source": [
    "# Visualization pie chart\n",
    "# with matplotlib\n",
    "\n",
    "explode = [0.1] * len(media.name)\n",
    "\n",
    "fig, axes = plt.subplots()\n",
    "ax = axes.pie(media.cached_count, labels=media.name, explode=explode, autopct='%1.1f%%')"
   ]
  },
  {
   "cell_type": "markdown",
   "id": "b5ce67ae-6c3e-4328-975b-8ec9ef5b9810",
   "metadata": {},
   "source": [
    "# Modifying data set for a better graph\n",
    "\n",
    "Sort the data, find quantile, group lower values together"
   ]
  },
  {
   "cell_type": "code",
   "execution_count": 9,
   "id": "d67bceda-35b0-4c3d-b4fb-fc9dd0839789",
   "metadata": {},
   "outputs": [
    {
     "data": {
      "text/html": [
       "<div>\n",
       "<style scoped>\n",
       "    .dataframe tbody tr th:only-of-type {\n",
       "        vertical-align: middle;\n",
       "    }\n",
       "\n",
       "    .dataframe tbody tr th {\n",
       "        vertical-align: top;\n",
       "    }\n",
       "\n",
       "    .dataframe thead th {\n",
       "        text-align: right;\n",
       "    }\n",
       "</style>\n",
       "<table border=\"1\" class=\"dataframe\">\n",
       "  <thead>\n",
       "    <tr style=\"text-align: right;\">\n",
       "      <th></th>\n",
       "      <th>name</th>\n",
       "      <th>cached_count</th>\n",
       "    </tr>\n",
       "  </thead>\n",
       "  <tbody>\n",
       "    <tr>\n",
       "      <th>0</th>\n",
       "      <td>Movies</td>\n",
       "      <td>1164</td>\n",
       "    </tr>\n",
       "    <tr>\n",
       "      <th>1</th>\n",
       "      <td>TV Shows</td>\n",
       "      <td>910</td>\n",
       "    </tr>\n",
       "    <tr>\n",
       "      <th>2</th>\n",
       "      <td>Anime &amp; Manga</td>\n",
       "      <td>501</td>\n",
       "    </tr>\n",
       "    <tr>\n",
       "      <th>3</th>\n",
       "      <td>Video Games</td>\n",
       "      <td>448</td>\n",
       "    </tr>\n",
       "    <tr>\n",
       "      <th>4</th>\n",
       "      <td>Cartoons &amp; Comics &amp; Graphic Novels</td>\n",
       "      <td>166</td>\n",
       "    </tr>\n",
       "    <tr>\n",
       "      <th>5</th>\n",
       "      <td>Books &amp; Literature</td>\n",
       "      <td>134</td>\n",
       "    </tr>\n",
       "    <tr>\n",
       "      <th>6</th>\n",
       "      <td>Theater</td>\n",
       "      <td>104</td>\n",
       "    </tr>\n",
       "    <tr>\n",
       "      <th>7</th>\n",
       "      <td>Celebrities &amp; Real People</td>\n",
       "      <td>33</td>\n",
       "    </tr>\n",
       "    <tr>\n",
       "      <th>8</th>\n",
       "      <td>Music &amp; Bands</td>\n",
       "      <td>19</td>\n",
       "    </tr>\n",
       "    <tr>\n",
       "      <th>9</th>\n",
       "      <td>Other Media</td>\n",
       "      <td>11</td>\n",
       "    </tr>\n",
       "    <tr>\n",
       "      <th>10</th>\n",
       "      <td>Uncategorized Fandoms</td>\n",
       "      <td>1</td>\n",
       "    </tr>\n",
       "    <tr>\n",
       "      <th>11</th>\n",
       "      <td>No Media</td>\n",
       "      <td>0</td>\n",
       "    </tr>\n",
       "  </tbody>\n",
       "</table>\n",
       "</div>"
      ],
      "text/plain": [
       "                                  name  cached_count\n",
       "0                               Movies          1164\n",
       "1                             TV Shows           910\n",
       "2                        Anime & Manga           501\n",
       "3                          Video Games           448\n",
       "4   Cartoons & Comics & Graphic Novels           166\n",
       "5                   Books & Literature           134\n",
       "6                              Theater           104\n",
       "7            Celebrities & Real People            33\n",
       "8                        Music & Bands            19\n",
       "9                          Other Media            11\n",
       "10               Uncategorized Fandoms             1\n",
       "11                            No Media             0"
      ]
     },
     "execution_count": 9,
     "metadata": {},
     "output_type": "execute_result"
    }
   ],
   "source": [
    "# Sort the dataframe in descending order\n",
    "# Use inplace=True to edit the existing dataframe\n",
    "\n",
    "media.sort_values(by='cached_count',ascending=False, inplace=True, ignore_index=True)\n",
    "media"
   ]
  },
  {
   "cell_type": "code",
   "execution_count": 10,
   "id": "6d3d5fd2-4410-40b6-bab7-b419211e0bf9",
   "metadata": {},
   "outputs": [
    {
     "data": {
      "text/plain": [
       "119.0"
      ]
     },
     "execution_count": 10,
     "metadata": {},
     "output_type": "execute_result"
    }
   ],
   "source": [
    "# Find 50th quantile values\n",
    "\n",
    "qt_50 = media.cached_count.quantile(.50)\n",
    "qt_50"
   ]
  },
  {
   "cell_type": "code",
   "execution_count": 11,
   "id": "889f51a6-7ace-45c8-b50e-e0c92573e8ce",
   "metadata": {},
   "outputs": [
    {
     "data": {
      "text/html": [
       "<div>\n",
       "<style scoped>\n",
       "    .dataframe tbody tr th:only-of-type {\n",
       "        vertical-align: middle;\n",
       "    }\n",
       "\n",
       "    .dataframe tbody tr th {\n",
       "        vertical-align: top;\n",
       "    }\n",
       "\n",
       "    .dataframe thead th {\n",
       "        text-align: right;\n",
       "    }\n",
       "</style>\n",
       "<table border=\"1\" class=\"dataframe\">\n",
       "  <thead>\n",
       "    <tr style=\"text-align: right;\">\n",
       "      <th></th>\n",
       "      <th>name</th>\n",
       "      <th>cached_count</th>\n",
       "    </tr>\n",
       "  </thead>\n",
       "  <tbody>\n",
       "    <tr>\n",
       "      <th>6</th>\n",
       "      <td>Theater</td>\n",
       "      <td>104</td>\n",
       "    </tr>\n",
       "    <tr>\n",
       "      <th>7</th>\n",
       "      <td>Celebrities &amp; Real People</td>\n",
       "      <td>33</td>\n",
       "    </tr>\n",
       "    <tr>\n",
       "      <th>8</th>\n",
       "      <td>Music &amp; Bands</td>\n",
       "      <td>19</td>\n",
       "    </tr>\n",
       "    <tr>\n",
       "      <th>9</th>\n",
       "      <td>Other Media</td>\n",
       "      <td>11</td>\n",
       "    </tr>\n",
       "    <tr>\n",
       "      <th>10</th>\n",
       "      <td>Uncategorized Fandoms</td>\n",
       "      <td>1</td>\n",
       "    </tr>\n",
       "    <tr>\n",
       "      <th>11</th>\n",
       "      <td>No Media</td>\n",
       "      <td>0</td>\n",
       "    </tr>\n",
       "  </tbody>\n",
       "</table>\n",
       "</div>"
      ],
      "text/plain": [
       "                         name  cached_count\n",
       "6                     Theater           104\n",
       "7   Celebrities & Real People            33\n",
       "8               Music & Bands            19\n",
       "9                 Other Media            11\n",
       "10      Uncategorized Fandoms             1\n",
       "11                   No Media             0"
      ]
     },
     "execution_count": 11,
     "metadata": {},
     "output_type": "execute_result"
    }
   ],
   "source": [
    "# Group values below 50th quantile\n",
    "# Find what rows to drop\n",
    "drop_rows = media[media['cached_count'] <= qt_50].copy()\n",
    "drop_rows"
   ]
  },
  {
   "cell_type": "code",
   "execution_count": 12,
   "id": "b251b652-62f3-45a5-b497-fe0e1120f6ad",
   "metadata": {},
   "outputs": [
    {
     "data": {
      "text/plain": [
       "168"
      ]
     },
     "execution_count": 12,
     "metadata": {},
     "output_type": "execute_result"
    }
   ],
   "source": [
    "# Find the sum of drop_rows values\n",
    "\n",
    "add_value = media[media['cached_count'] <= qt_50].cached_count.sum()\n",
    "add_value"
   ]
  },
  {
   "cell_type": "code",
   "execution_count": 13,
   "id": "fb21e4e9-63a3-4794-ac48-2b187aede549",
   "metadata": {},
   "outputs": [
    {
     "data": {
      "text/html": [
       "<div>\n",
       "<style scoped>\n",
       "    .dataframe tbody tr th:only-of-type {\n",
       "        vertical-align: middle;\n",
       "    }\n",
       "\n",
       "    .dataframe tbody tr th {\n",
       "        vertical-align: top;\n",
       "    }\n",
       "\n",
       "    .dataframe thead th {\n",
       "        text-align: right;\n",
       "    }\n",
       "</style>\n",
       "<table border=\"1\" class=\"dataframe\">\n",
       "  <thead>\n",
       "    <tr style=\"text-align: right;\">\n",
       "      <th></th>\n",
       "      <th>name</th>\n",
       "      <th>cached_count</th>\n",
       "    </tr>\n",
       "  </thead>\n",
       "  <tbody>\n",
       "    <tr>\n",
       "      <th>0</th>\n",
       "      <td>Movies</td>\n",
       "      <td>1164</td>\n",
       "    </tr>\n",
       "    <tr>\n",
       "      <th>1</th>\n",
       "      <td>TV Shows</td>\n",
       "      <td>910</td>\n",
       "    </tr>\n",
       "    <tr>\n",
       "      <th>2</th>\n",
       "      <td>Anime &amp; Manga</td>\n",
       "      <td>501</td>\n",
       "    </tr>\n",
       "    <tr>\n",
       "      <th>3</th>\n",
       "      <td>Video Games</td>\n",
       "      <td>448</td>\n",
       "    </tr>\n",
       "    <tr>\n",
       "      <th>4</th>\n",
       "      <td>Cartoons &amp; Comics &amp; Graphic Novels</td>\n",
       "      <td>166</td>\n",
       "    </tr>\n",
       "    <tr>\n",
       "      <th>5</th>\n",
       "      <td>Books &amp; Literature</td>\n",
       "      <td>134</td>\n",
       "    </tr>\n",
       "    <tr>\n",
       "      <th>6</th>\n",
       "      <td>Other</td>\n",
       "      <td>168</td>\n",
       "    </tr>\n",
       "  </tbody>\n",
       "</table>\n",
       "</div>"
      ],
      "text/plain": [
       "                                 name  cached_count\n",
       "0                              Movies          1164\n",
       "1                            TV Shows           910\n",
       "2                       Anime & Manga           501\n",
       "3                         Video Games           448\n",
       "4  Cartoons & Comics & Graphic Novels           166\n",
       "5                  Books & Literature           134\n",
       "6                               Other           168"
      ]
     },
     "execution_count": 13,
     "metadata": {},
     "output_type": "execute_result"
    }
   ],
   "source": [
    "# Edit media dataframe\n",
    "# Add a new row Other\n",
    "# Add new value as cached_count\n",
    "\n",
    "media2 = media[media['cached_count'] > qt_50].append({'name':'Other','cached_count':add_value}, ignore_index=True)\n",
    "media2"
   ]
  },
  {
   "cell_type": "code",
   "execution_count": 14,
   "id": "d6152a8a-64bb-4d9a-96bb-22d6c64653af",
   "metadata": {},
   "outputs": [
    {
     "data": {
      "image/png": "[encoded data removed]",
      "text/plain": [
       "<Figure size 432x288 with 1 Axes>"
      ]
     },
     "metadata": {},
     "output_type": "display_data"
    }
   ],
   "source": [
    "# pie chart with new media2 dataframe\n",
    "\n",
    "explode = [0.1] * len(media2.name)\n",
    "\n",
    "fig,axes = plt.subplots()\n",
    "\n",
    "ax = axes.pie(media2.cached_count, labels=media2.name, explode=explode, autopct='%1.1f%%')\n"
   ]
  },
  {
   "cell_type": "markdown",
   "id": "7032dd02-80ec-4ab9-803c-4fc34c5eb4ae",
   "metadata": {},
   "source": [
    "# Matplotlib Table"
   ]
  },
  {
   "cell_type": "code",
   "execution_count": 15,
   "id": "ea84d86f-21e8-4ff0-bb56-8172cb490051",
   "metadata": {},
   "outputs": [
    {
     "data": {
      "image/png": "[encoded data removed]",
      "text/plain": [
       "<Figure size 432x288 with 1 Axes>"
      ]
     },
     "metadata": {
      "needs_background": "light"
     },
     "output_type": "display_data"
    }
   ],
   "source": [
    "# Test pandas.plotting.table()\n",
    "\n",
    "fig,ax = plt.subplots()\n",
    "ax = pd.plotting.table(ax,data=drop_rows)"
   ]
  },
  {
   "cell_type": "code",
   "execution_count": 16,
   "id": "f2c20aa0-bba1-4700-a76f-06c06ff762fd",
   "metadata": {},
   "outputs": [
    {
     "data": {
      "text/html": [
       "<div>\n",
       "<style scoped>\n",
       "    .dataframe tbody tr th:only-of-type {\n",
       "        vertical-align: middle;\n",
       "    }\n",
       "\n",
       "    .dataframe tbody tr th {\n",
       "        vertical-align: top;\n",
       "    }\n",
       "\n",
       "    .dataframe thead th {\n",
       "        text-align: right;\n",
       "    }\n",
       "</style>\n",
       "<table border=\"1\" class=\"dataframe\">\n",
       "  <thead>\n",
       "    <tr style=\"text-align: right;\">\n",
       "      <th></th>\n",
       "      <th>name</th>\n",
       "      <th>cached_count</th>\n",
       "      <th>Percentage</th>\n",
       "    </tr>\n",
       "  </thead>\n",
       "  <tbody>\n",
       "    <tr>\n",
       "      <th>6</th>\n",
       "      <td>Theater</td>\n",
       "      <td>104</td>\n",
       "      <td>2.98</td>\n",
       "    </tr>\n",
       "    <tr>\n",
       "      <th>7</th>\n",
       "      <td>Celebrities &amp; Real People</td>\n",
       "      <td>33</td>\n",
       "      <td>0.95</td>\n",
       "    </tr>\n",
       "    <tr>\n",
       "      <th>8</th>\n",
       "      <td>Music &amp; Bands</td>\n",
       "      <td>19</td>\n",
       "      <td>0.54</td>\n",
       "    </tr>\n",
       "    <tr>\n",
       "      <th>9</th>\n",
       "      <td>Other Media</td>\n",
       "      <td>11</td>\n",
       "      <td>0.32</td>\n",
       "    </tr>\n",
       "    <tr>\n",
       "      <th>10</th>\n",
       "      <td>Uncategorized Fandoms</td>\n",
       "      <td>1</td>\n",
       "      <td>0.03</td>\n",
       "    </tr>\n",
       "    <tr>\n",
       "      <th>11</th>\n",
       "      <td>No Media</td>\n",
       "      <td>0</td>\n",
       "      <td>0.00</td>\n",
       "    </tr>\n",
       "  </tbody>\n",
       "</table>\n",
       "</div>"
      ],
      "text/plain": [
       "                         name  cached_count  Percentage\n",
       "6                     Theater           104        2.98\n",
       "7   Celebrities & Real People            33        0.95\n",
       "8               Music & Bands            19        0.54\n",
       "9                 Other Media            11        0.32\n",
       "10      Uncategorized Fandoms             1        0.03\n",
       "11                   No Media             0        0.00"
      ]
     },
     "execution_count": 16,
     "metadata": {},
     "output_type": "execute_result"
    }
   ],
   "source": [
    "# Edit drop_rows dataframe\n",
    "# Add a new column of percentage\n",
    "drop_rows['Percentage'] = (drop_rows.cached_count / media.cached_count.sum() * 100).round(2)\n",
    "drop_rows"
   ]
  },
  {
   "cell_type": "code",
   "execution_count": 17,
   "id": "4216bcc5-57cf-4641-868b-1221f0ac9ee4",
   "metadata": {},
   "outputs": [
    {
     "data": {
      "text/html": [
       "<div>\n",
       "<style scoped>\n",
       "    .dataframe tbody tr th:only-of-type {\n",
       "        vertical-align: middle;\n",
       "    }\n",
       "\n",
       "    .dataframe tbody tr th {\n",
       "        vertical-align: top;\n",
       "    }\n",
       "\n",
       "    .dataframe thead th {\n",
       "        text-align: right;\n",
       "    }\n",
       "</style>\n",
       "<table border=\"1\" class=\"dataframe\">\n",
       "  <thead>\n",
       "    <tr style=\"text-align: right;\">\n",
       "      <th></th>\n",
       "      <th>Other</th>\n",
       "      <th>Percentage</th>\n",
       "    </tr>\n",
       "  </thead>\n",
       "  <tbody>\n",
       "    <tr>\n",
       "      <th>6</th>\n",
       "      <td>Theater</td>\n",
       "      <td>2.98</td>\n",
       "    </tr>\n",
       "    <tr>\n",
       "      <th>7</th>\n",
       "      <td>Celebrities &amp; Real People</td>\n",
       "      <td>0.95</td>\n",
       "    </tr>\n",
       "    <tr>\n",
       "      <th>8</th>\n",
       "      <td>Music &amp; Bands</td>\n",
       "      <td>0.54</td>\n",
       "    </tr>\n",
       "    <tr>\n",
       "      <th>9</th>\n",
       "      <td>Other Media</td>\n",
       "      <td>0.32</td>\n",
       "    </tr>\n",
       "    <tr>\n",
       "      <th>10</th>\n",
       "      <td>Uncategorized Fandoms</td>\n",
       "      <td>0.03</td>\n",
       "    </tr>\n",
       "    <tr>\n",
       "      <th>11</th>\n",
       "      <td>No Media</td>\n",
       "      <td>0.00</td>\n",
       "    </tr>\n",
       "  </tbody>\n",
       "</table>\n",
       "</div>"
      ],
      "text/plain": [
       "                        Other  Percentage\n",
       "6                     Theater        2.98\n",
       "7   Celebrities & Real People        0.95\n",
       "8               Music & Bands        0.54\n",
       "9                 Other Media        0.32\n",
       "10      Uncategorized Fandoms        0.03\n",
       "11                   No Media        0.00"
      ]
     },
     "execution_count": 17,
     "metadata": {},
     "output_type": "execute_result"
    }
   ],
   "source": [
    "# Drop cached_count\n",
    "# Change column name\n",
    "drop_rows.drop('cached_count', axis=1, inplace=True)\n",
    "drop_rows.columns = ['Other', 'Percentage']\n",
    "drop_rows"
   ]
  },
  {
   "cell_type": "markdown",
   "id": "013184d2-36ca-4f35-8861-85f2eedc7a47",
   "metadata": {},
   "source": [
    "# Plotting Pie Chart and Table"
   ]
  },
  {
   "cell_type": "code",
   "execution_count": 30,
   "id": "5eef3d83-b9b4-497b-bc33-dd5652e2acb1",
   "metadata": {},
   "outputs": [
    {
     "data": {
      "image/png": "[encoded data removed]",
      "text/plain": [
       "<Figure size 720x576 with 1 Axes>"
      ]
     },
     "metadata": {},
     "output_type": "display_data"
    }
   ],
   "source": [
    "# Plot pie chart\n",
    "# Plot table \n",
    "explode = [0.1] * len(media2.name)\n",
    "\n",
    "fig,axes = plt.subplots(figsize=(10, 8))\n",
    "\n",
    "ax = axes.pie(media2.cached_count, labels=media2.name, explode=explode, autopct='%1.1f%%')\n",
    "table = pd.plotting.table(axes,data=drop_rows, cellLoc='center')\n",
    "\n",
    "# Aaethetics\n",
    "table.scale(1,1.5) # add padding around cell text\n",
    "ax = plt.title('AO3 Tags Breakdown By Media Type \\n 2008-2021')"
   ]
  }
 ],
 "metadata": {
  "kernelspec": {
   "display_name": "Python 3",
   "language": "python",
   "name": "python3"
  },
  "language_info": {
   "codemirror_mode": {
    "name": "ipython",
    "version": 3
   },
   "file_extension": ".py",
   "mimetype": "text/x-python",
   "name": "python",
   "nbconvert_exporter": "python",
   "pygments_lexer": "ipython3",
   "version": "3.7.3"
  }
 },
 "nbformat": 4,
 "nbformat_minor": 5
}
